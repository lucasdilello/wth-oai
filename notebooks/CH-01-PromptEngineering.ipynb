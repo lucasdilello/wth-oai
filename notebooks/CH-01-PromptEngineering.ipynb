{
 "cells": [
  {
   "cell_type": "markdown",
   "metadata": {
    "nteract": {
     "transient": {
      "deleting": false
     }
    }
   },
   "source": [
    "# Reto 01 - Prompt Engineering"
   ]
  },
  {
   "cell_type": "markdown",
   "metadata": {
    "nteract": {
     "transient": {
      "deleting": false
     }
    }
   },
   "source": [
    "Consejo rápido: Para ver la Tabla de Contenidos de este Notebook en VS Code, en la pestaña \"Explorer\", expande la sección \"Outline\"."
   ]
  },
  {
   "cell_type": "markdown",
   "metadata": {
    "nteract": {
     "transient": {
      "deleting": false
     }
    }
   },
   "source": [
    "## 1. Experimentación de Parámetros\n",
    "Primero configuraremos el Desafío. Carga la clave API y las bibliotecas de Python relevantes utilizando las celdas a continuación."
   ]
  },
  {
   "cell_type": "markdown",
   "metadata": {
    "nteract": {
     "transient": {
      "deleting": false
     }
    }
   },
   "source": [
    "### 1.1 Preparación\n",
    "#### 1.1.1 Configuración del Entorno\n"
   ]
  },
  {
   "cell_type": "markdown",
   "metadata": {
    "nteract": {
     "transient": {
      "deleting": false
     }
    }
   },
   "source": [
    "#### Crea o actualiza el archivo de entorno llamado \".env\"\n",
    "Hemos incluido un archivo de entorno de ejemplo para tu referencia. Puedes encontrar el archivo `.env.sample` en la raiz de este repositorio o en la carpeta `Student/Resources` dentro de la documentación del desafío. Siéntete libre de hacer las modificaciones necesarias y renombra el archivo como `.env`.\n",
    "\n",
    "**NOTA:** Asegúrate de mantener el nombre de cada modelo igual al nombre de implementación del modelo que configuraste en Azure OpenAI.\n",
    "\n",
    "**NOTA:** Ten en cuenta que algunos modelos de AOAI podrían estar obsoletos. Deberías crear los que estén disponibles según sea necesario. Para completar este primer desafío, gpt-35-turbo es el único modelo que necesitas.\n",
    "\n",
    "Para obtener información sobre los modelos actuales, consulta: [Modelos del Servicio Azure OpenAI Service](https://learn.microsoft.com/es-mx/azure/ai-services/openai/concepts/models)"
   ]
  },
  {
   "cell_type": "markdown",
   "metadata": {
    "nteract": {
     "transient": {
      "deleting": false
     }
    }
   },
   "source": [
    "####  Configuración del Entorno de Azure OpenAI"
   ]
  },
  {
   "cell_type": "code",
   "execution_count": 1,
   "metadata": {
    "gather": {
     "logged": 1686932813309
    },
    "jupyter": {
     "outputs_hidden": false,
     "source_hidden": false
    },
    "nteract": {
     "transient": {
      "deleting": false
     }
    }
   },
   "outputs": [
    {
     "data": {
      "text/plain": [
       "True"
      ]
     },
     "execution_count": 1,
     "metadata": {},
     "output_type": "execute_result"
    }
   ],
   "source": [
    "import openai\n",
    "import os\n",
    "import json\n",
    "from dotenv import load_dotenv, find_dotenv\n",
    "load_dotenv(find_dotenv())"
   ]
  },
  {
   "cell_type": "code",
   "execution_count": 2,
   "metadata": {
    "gather": {
     "logged": 1686933122347
    },
    "jupyter": {
     "outputs_hidden": false,
     "source_hidden": false
    },
    "nteract": {
     "transient": {
      "deleting": false
     }
    }
   },
   "outputs": [],
   "source": [
    "API_KEY = os.getenv(\"OPENAI_API_KEY\")\n",
    "assert API_KEY, \"ERROR: Azure OpenAI Key is missing\"\n",
    "openai.api_key = API_KEY\n",
    "\n",
    "RESOURCE_ENDPOINT = os.getenv(\"OPENAI_API_BASE\",\"\").strip()\n",
    "\n",
    "assert RESOURCE_ENDPOINT, \"ERROR: Azure OpenAI Endpoint is missing\"\n",
    "assert \"openai.azure.com\" in RESOURCE_ENDPOINT.lower(), \"ERROR: Azure OpenAI Endpoint should be in the form: \\n\\n\\t<your unique endpoint identifier>.openai.azure.com\"\n",
    "\n",
    "openai.api_base = RESOURCE_ENDPOINT\n",
    "openai.api_type = os.getenv(\"OPENAI_API_TYPE\")\n",
    "openai.api_version = os.getenv(\"OPENAI_API_VERSION\")\n",
    "\n",
    "chat_model=os.getenv(\"CHAT_MODEL_NAME\")\n"
   ]
  },
  {
   "cell_type": "markdown",
   "metadata": {
    "nteract": {
     "transient": {
      "deleting": false
     }
    }
   },
   "source": [
    "#### 1.1.2 Explicación de Parámetros\n",
    "Especificamos los hiperparámetros para los modelos de Azure OpenAI dentro de las funciones de ayuda. Los usuarios pueden ajustar los parámetros según sus necesidades.\n",
    "\n",
    "\n",
    "###### **Temperatura**\n",
    "La temperatura varía de 0 a 2. Aquí tienes un desglose rápido de cómo funciona:\n",
    "- Temperatura baja (0 a 0.3): Salidas más enfocadas, coherentes y conservadoras.\n",
    "- Temperatura media (0.3 a 0.7): Creatividad y coherencia equilibradas.\n",
    "- Alta temperatura (> 0.7): Altamente creativa y diversa, pero potencialmente menos coherente.\n",
    "\n",
    "###### **Top_p**\n",
    "Establece el límite de probabilidad para el muestreo de tokens, afectando la amplitud de opciones que considera la IA. Valores más altos conducen a más aleatoriedad, mientras que valores más bajos resultan en salidas más enfocadas.\n",
    "\n",
    "\n",
    "El parámetro \"top_p\" actúa como un filtro que controla cuántas palabras o frases diferentes considera el modelo de lenguaje cuando intenta predecir la siguiente palabra. Si configuras el valor de \"top p\" a 0.5, el modelo de lenguaje solo considerará las 50 palabras o frases más probables que podrían seguir. Pero si configuras el valor de \"top p\" a 0.9, el modelo de lenguaje considerará las 90 palabras o frases más probables.\n",
    "\n",
    "Dado que \"top_p\" y \"temperatura\" realizan trabajos similares como hiperparámetros, usualmente solo ajustamos uno de ellos en lugar de ambos al mismo tiempo.\n",
    "\n",
    "###### **Max_tokens**\n",
    "Max_tokens determina la longitud máxima del texto generado. Al establecer un límite, puedes controlar cuánto texto devolverá el modelo LLM, asegurando que no proporcione una respuesta demasiado larga.\n",
    "\n",
    "###### **Frequency_penalty**\n",
    "La penalización de frecuencia asegura que el texto generado sea variado al dar una penalización a los tokens que ya se han utilizado en la respuesta.\n",
    "\n",
    "Varía de -2.0 a 2.0, con valores más altos resultando en una salida más diversa.\n",
    "\n",
    "Los valores positivos penalizan nuevos tokens basados en su frecuencia existente en el texto hasta el momento, disminuyendo la probabilidad del modelo de repetir la misma línea textualmente."
   ]
  },
  {
   "cell_type": "markdown",
   "metadata": {
    "nteract": {
     "transient": {
      "deleting": false
     }
    }
   },
   "source": [
    "#### 1.1.3 Función de Ayuda\n",
    "A lo largo de este desafío, utilizaremos el modelo `gpt-3.5-turbo` de Azure OpenAI y el [punto final de conexión (endpoint) de chat completions](https://platform.openai.com/docs/guides/chat). \n",
    "\n",
    "Esta función de ayuda facilitará el uso de prompts y la visualización de las salidas generadas.\n",
    "\n",
    "**get_chat_completion** ayuda a crear la respuesta de Azure OpenAI utilizando el modelo de chat de tu elección.\n",
    "\n",
    "**get_completion_from_messages** ayuda a crear la respuesta de Azure OpenAI utilizando el modelo de chat de tu elección, habilitando el historial de chat.\n"
   ]
  },
  {
   "cell_type": "code",
   "execution_count": 3,
   "metadata": {
    "gather": {
     "logged": 1686938673045
    },
    "jupyter": {
     "outputs_hidden": false,
     "source_hidden": false
    },
    "nteract": {
     "transient": {
      "deleting": false
     }
    }
   },
   "outputs": [],
   "source": [
    "def get_chat_completion(prompt, model=chat_model):\n",
    "    messages = [{\"role\": \"user\", \"content\": prompt}]\n",
    "    response = openai.ChatCompletion.create(\n",
    "        engine=model,\n",
    "        messages=messages,\n",
    "        temperature=0, # this is the degree of randomness of the model's output\n",
    "        max_tokens = 200,\n",
    "        top_p = 1.0\n",
    "    )\n",
    "    return response.choices[0].message[\"content\"]"
   ]
  },
  {
   "cell_type": "code",
   "execution_count": 4,
   "metadata": {
    "gather": {
     "logged": 1686938550664
    },
    "jupyter": {
     "outputs_hidden": false,
     "source_hidden": false
    },
    "nteract": {
     "transient": {
      "deleting": false
     }
    }
   },
   "outputs": [],
   "source": [
    "def get_completion_from_messages(messages, model=chat_model, temperature=0):\n",
    "    response = openai.ChatCompletion.create(\n",
    "        engine=model,\n",
    "        messages=messages,\n",
    "        temperature=temperature # this is the degree of randomness of the model's output\n",
    "    )\n",
    "\n",
    "    return response.choices[0].message[\"content\"]\n",
    "\n"
   ]
  },
  {
   "cell_type": "markdown",
   "metadata": {
    "nteract": {
     "transient": {
      "deleting": false
     }
    }
   },
   "source": [
    "#### Prueba las funciones auxiliares"
   ]
  },
  {
   "cell_type": "code",
   "execution_count": 5,
   "metadata": {
    "gather": {
     "logged": 1686938676516
    },
    "jupyter": {
     "outputs_hidden": false,
     "source_hidden": false
    },
    "nteract": {
     "transient": {
      "deleting": false
     }
    }
   },
   "outputs": [
    {
     "name": "stdout",
     "output_type": "stream",
     "text": [
      "Why did the tomato turn red? Because it saw the salad dressing!\n"
     ]
    }
   ],
   "source": [
    "messages =  f\"\"\"\n",
    "tell me a joke.\n",
    "\"\"\"\n",
    "response = get_chat_completion(messages)\n",
    "print(response)"
   ]
  },
  {
   "cell_type": "code",
   "execution_count": 6,
   "metadata": {
    "gather": {
     "logged": 1686938564787
    },
    "jupyter": {
     "outputs_hidden": false,
     "source_hidden": false
    },
    "nteract": {
     "transient": {
      "deleting": false
     }
    }
   },
   "outputs": [
    {
     "name": "stdout",
     "output_type": "stream",
     "text": [
      "To get to the other side!\n"
     ]
    }
   ],
   "source": [
    "messages =  [      \n",
    "    {'role':'user', 'content':'tell me a joke'},   \n",
    "    {'role':'assistant', 'content':'Why did the chicken cross the road'},   \n",
    "    {'role':'user', 'content':'I don\\'t know'}\n",
    "]\n",
    "response = get_completion_from_messages(messages, temperature=1)\n",
    "print(response)"
   ]
  },
  {
   "cell_type": "code",
   "execution_count": null,
   "metadata": {},
   "outputs": [],
   "source": []
  },
  {
   "cell_type": "markdown",
   "metadata": {
    "nteract": {
     "transient": {
      "deleting": false
     }
    }
   },
   "source": [
    "#### Tareas para Estudiantes (preguntas abiertas):\n",
    "1. Crea una función de finalización de texto (completions) para una temperatura muy alta, entre (0,1).\n",
    "2. Crea una función de finalización de texto (completions) para un valor muy pequeño de max_tokens a fin de obtener respuestas más cortas.\n",
    "3. Crea funciones de finalización (completions) con 2 valores diferentes de penalización por diversidad entre (0,2).\n",
    "\n",
    "Prueba las funciones de finalización (completions) que has creado y compara los resultados obtenidos con las pruebas anteriores."
   ]
  },
  {
   "cell_type": "code",
   "execution_count": 7,
   "metadata": {},
   "outputs": [],
   "source": [
    "def get_chat_completion(prompt, model=chat_model, temperature=1, max_tokens=200, frequency_penalty=0):\n",
    "    messages = [{\"role\": \"user\", \"content\": prompt}]\n",
    "    response = openai.ChatCompletion.create(\n",
    "    engine=model,\n",
    "    messages=messages,\n",
    "    temperature=temperature,\n",
    "    max_tokens = max_tokens,\n",
    "    frequency_penalty=frequency_penalty,\n",
    "    top_p = 1.0\n",
    "    )\n",
    "    return response.choices[0].message[\"content\"]\n",
    "\n",
    "\n",
    "def get_completion_from_messages(messages, model=chat_model, temperature=0, max_tokens=200, frequency_penalty=0):\n",
    "    response = openai.ChatCompletion.create(\n",
    "    engine=model,\n",
    "    messages=messages,\n",
    "    temperature=temperature,\n",
    "    max_tokens=max_tokens,\n",
    "    frequency_penalty=frequency_penalty\n",
    "    )\n",
    "\n",
    "    return response.choices[0].message[\"content\"]\n"
   ]
  },
  {
   "cell_type": "code",
   "execution_count": 8,
   "metadata": {
    "jupyter": {
     "outputs_hidden": false,
     "source_hidden": false
    },
    "nteract": {
     "transient": {
      "deleting": false
     }
    }
   },
   "outputs": [
    {
     "name": "stdout",
     "output_type": "stream",
     "text": [
      "-----------------------------------------------------------------------------------\n",
      "\n",
      " El valor de la temperatura para esta respuesta es: 0 La respuesta es: \n",
      "\n",
      "Si el valor de la temperatura de un modelo es muy alta, puede indicar que el modelo está sobrecalentado y puede haber problemas en el rendimiento del modelo. Esto puede llevar a una mayor inestabilidad y errores en las predicciones del modelo. Es importante ajustar la temperatura del modelo para asegurarse de que esté en un rango óptimo para obtener resultados precisos y confiables.\n",
      "-----------------------------------------------------------------------------------\n",
      "\n",
      " El valor de la temperatura para esta respuesta es: 0.2 La respuesta es: \n",
      "\n",
      "Si el valor de la temperatura de un modelo es muy alta, puede significar que el modelo está sobrecalentado y puede haber problemas en su funcionamiento. Esto puede provocar un aumento en el consumo de energía, un mayor desgaste de los componentes y una disminución en la vida útil del modelo. Además, si el modelo está diseñado para trabajar en un rango de temperatura específico, un valor demasiado alto puede hacer que el modelo falle o se dañe. Por lo tanto, es importante monitorear la temperatura del modelo y tomar medidas para enfriarlo si es necesario.\n",
      "-----------------------------------------------------------------------------------\n",
      "\n",
      " El valor de la temperatura para esta respuesta es: 0.3 La respuesta es: \n",
      "\n",
      "Si el valor de la temperatura de un modelo es muy alta, puede indicar que el modelo está sobrecalentado y puede haber problemas en su funcionamiento. Esto puede causar daños en los componentes del modelo y afectar su rendimiento. Además, una temperatura demasiado alta puede provocar una disminución en la vida útil del modelo y aumentar el riesgo de fallos y errores. Es importante monitorear la temperatura del modelo y tomar medidas para reducirla si es necesario, como aumentar la ventilación o reducir la carga de trabajo del modelo.\n",
      "-----------------------------------------------------------------------------------\n",
      "\n",
      " El valor de la temperatura para esta respuesta es: 0.5 La respuesta es: \n",
      "\n",
      "Si el valor de la temperatura de un modelo es muy alta, puede indicar que el modelo está sobrecalentando o que hay un problema en el sistema de enfriamiento. Esto puede provocar daños en los componentes del modelo y reducir su vida útil. Además, también puede afectar el rendimiento del modelo y hacer que no funcione correctamente. Por lo tanto, es importante controlar la temperatura del modelo y tomar medidas para reducirla si es necesario. Esto puede incluir mejorar la ventilación del modelo, reducir la carga de trabajo o cambiar los componentes del sistema de enfriamiento.\n",
      "-----------------------------------------------------------------------------------\n",
      "\n",
      " El valor de la temperatura para esta respuesta es: 0.7 La respuesta es: \n",
      "\n",
      "Si el valor de la temperatura de un modelo es muy alta, puede indicar que el modelo está sobrecalentado y puede llevar a resultados inexactos o incluso a la falla del modelo. Esto puede deberse a una mala calibración, una falta de datos precisos, errores en el código o en los cálculos matemáticos. Para solucionar esto, es necesario identificar la causa del problema y ajustar el modelo en consecuencia, lo que puede implicar la revisión de la metodología de medición y la recolección de datos, la revisión del código, o la utilización de técnicas de regularización para evitar el sobreajuste del modelo.\n",
      "-----------------------------------------------------------------------------------\n",
      "\n",
      " El valor de la temperatura para esta respuesta es: 1 La respuesta es: \n",
      "\n",
      "Si la temperatura de un modelo es muy alta, puede significar que el modelo está siendo sobrecalentado. Esto podría afectar la precisión del modelo y podría hacer que los resultados del análisis sean inexactos. También podría dañar los componentes del modelo si la temperatura se mantiene a niveles muy altos durante un largo período de tiempo. Es importante monitorear la temperatura y ajustarla según sea necesario para asegurar que el modelo funcione correctamente y de manera segura.\n"
     ]
    }
   ],
   "source": [
    "# Prueba aquí la función de completación para una temperatura muy alta entre (0,1)\n",
    "prompt=f\"\"\"\n",
    "Hola, que pasa si el valor de la temperatura de un modelo es muy alta?\n",
    "\"\"\"\n",
    "temperature_values = [0, 0.2, 0.3, 0.5, 0.7, 1]\n",
    "\n",
    "for value in temperature_values:\n",
    "    response = get_chat_completion(prompt, chat_model, value)\n",
    "    print(\"-----------------------------------------------------------------------------------\")\n",
    "    print(\"\\n El valor de la temperatura para esta respuesta es:\", value, \"La respuesta es: \\n\")\n",
    "    print(response)\n"
   ]
  },
  {
   "cell_type": "code",
   "execution_count": 9,
   "metadata": {
    "jupyter": {
     "outputs_hidden": false,
     "source_hidden": false
    },
    "nteract": {
     "transient": {
      "deleting": false
     }
    }
   },
   "outputs": [
    {
     "name": "stdout",
     "output_type": "stream",
     "text": [
      "El Señor de los Anillos es una trilogía de novelas escritas por J\n"
     ]
    }
   ],
   "source": [
    "# Prueba aquí la función de completación para un valor max_tokens muy bajo para obtener respuestas más cortas\n",
    "prompt = f\"\"\"\n",
    "Hola! Podrias hacer un resumen del señor de los anillos?\n",
    "\"\"\"\n",
    "short_response = get_chat_completion(prompt, chat_model, temperature=0.5, max_tokens=20)\n",
    "\n",
    "print(short_response)"
   ]
  },
  {
   "cell_type": "code",
   "execution_count": 10,
   "metadata": {
    "jupyter": {
     "outputs_hidden": false,
     "source_hidden": false
    },
    "nteract": {
     "transient": {
      "deleting": false
     }
    }
   },
   "outputs": [
    {
     "name": "stdout",
     "output_type": "stream",
     "text": [
      "Esta es la primer respuesta: \n",
      " El Señor de los Anillos es una trilogía de novelas escritas por J.R.R. Tolkien. La historia sigue a un hobbit llamado Frodo Bolsón, quien es elegido para llevar un anillo mágico que puede dar el control al malvado señor oscuro Sauron. Frodo se une a un grupo de amigos, incluyendo un mago llamado Gandalf, un elfo llamado Legolas, un enano llamado Gimli y un humano llamado Aragorn, para llevar el anillo a la destrucción en el Monte del Destino. A lo largo del camino, enfrentan muchos peligros, incluyendo orcos, trolls y otros seres malvados. Al final, Frodo y sus amigos logran destruir el anillo y derrotar a Sauron, salvando la Tierra Media.\n",
      "-----------------------------------------------\n",
      "Esta es la segunda respuesta: \n",
      " El Señor de los Anillos es una trilogía de novelas escrita por J.R.R. Tolkien que cuenta la historia del joven hobbit Frodo Bolsón, quien se embarca en una peligrosa misión para destruir el Anillo Único, un poderoso objeto creado por el malvado Sauron con la intención de gobernar todo Middle Earth.\n",
      "\n",
      "Frodo es acompañado en su viaje por otros personajes como Gandalf, Aragorn y Legolas, quienes luchan contra las fuerzas oscuras lideradas por Sauron y sus aliados orcos. La lucha culmina en la Batalla del Abismo de Helm y finalmente en el Monte del Destino donde Frodo debe decidir si ceder al poder del anillo o seguir adelante con su misión.\n",
      "\n",
      "La historia está repleta de aventuras emocionantes e intensos momentos llenos acción\n"
     ]
    }
   ],
   "source": [
    "# Prueba aquí las funciones de completación con 2 valores diferentes de penalización por diversidad entre (0,2).\n",
    "prompt = f\"\"\"\n",
    "Hola! Podrias hacer un resumen del señor de los anillos?\n",
    "\"\"\"\n",
    "\n",
    "response1 = get_chat_completion(prompt, chat_model, temperature=0.5, max_tokens=200, frequency_penalty=0)\n",
    "response2 = get_chat_completion(prompt, chat_model, temperature=0.5, max_tokens=200, frequency_penalty=2)\n",
    "\n",
    "print(\"Esta es la primer respuesta: \\n\", response1)\n",
    "print(\"-----------------------------------------------\")\n",
    "print(\"Esta es la segunda respuesta: \\n\", response2)\n"
   ]
  },
  {
   "cell_type": "markdown",
   "metadata": {
    "nteract": {
     "transient": {
      "deleting": false
     }
    }
   },
   "source": [
    "### 1.2 Ingeniería de Mensajes del Sistema\n",
    "Los usuarios pueden lograr que los modelos respondan en el tono deseado ajustando el mensaje del sistema."
   ]
  },
  {
   "cell_type": "markdown",
   "metadata": {
    "nteract": {
     "transient": {
      "deleting": false
     }
    }
   },
   "source": [
    "#### 1.2.1 Cambio de Tono"
   ]
  },
  {
   "cell_type": "code",
   "execution_count": 11,
   "metadata": {
    "gather": {
     "logged": 1685476487849
    },
    "jupyter": {
     "outputs_hidden": false,
     "source_hidden": false
    },
    "nteract": {
     "transient": {
      "deleting": false
     }
    }
   },
   "outputs": [
    {
     "name": "stdout",
     "output_type": "stream",
     "text": [
      "Why was the math book sad?\n",
      "Because it had too many problems.\n"
     ]
    }
   ],
   "source": [
    "messages =  [      \n",
    "    {'role':'assistant', 'content':'How can I help you?'},\n",
    "    {'role':'user', 'content':'tell me a joke'}\n",
    "]\n",
    "response = get_completion_from_messages(messages, temperature=1)\n",
    "print(response)"
   ]
  },
  {
   "cell_type": "code",
   "execution_count": 12,
   "metadata": {
    "gather": {
     "logged": 1685059077359
    },
    "jupyter": {
     "outputs_hidden": false,
     "source_hidden": false
    },
    "nteract": {
     "transient": {
      "deleting": false
     }
    }
   },
   "outputs": [
    {
     "name": "stdout",
     "output_type": "stream",
     "text": [
      "Why did the noblewoman refuse to give a knight her phone number? Because she preferred to have a trebuchet!\n"
     ]
    }
   ],
   "source": [
    "messages =  [  \n",
    "    {'role':'system', 'content':'You are an assistant that speaks like Shakespeare.'},    \n",
    "    {'role':'assistant', 'content':'How can I help you?'},\n",
    "    {'role':'user', 'content':'tell me a joke'}\n",
    "]\n",
    "response = get_completion_from_messages(messages, temperature=1)\n",
    "print(response)"
   ]
  },
  {
   "cell_type": "markdown",
   "metadata": {
    "nteract": {
     "transient": {
      "deleting": false
     }
    }
   },
   "source": [
    "#### Tarea para Estudiantes (pregunta abierta):\n",
    "Haz que el asistente cuente un chiste con el tono de tu personaje favorito editando el mensaje del sistema.\n"
   ]
  },
  {
   "cell_type": "code",
   "execution_count": 13,
   "metadata": {
    "gather": {
     "logged": 1686939630607
    },
    "jupyter": {
     "outputs_hidden": false,
     "source_hidden": false
    },
    "nteract": {
     "transient": {
      "deleting": false
     }
    }
   },
   "outputs": [
    {
     "name": "stdout",
     "output_type": "stream",
     "text": [
      "¡Por supuesto, mi querido amigo! ¿Por qué los hobbits siempre están tan contentos? Porque tienen una vida muy corta y no tienen tiempo para preocuparse demasiado. ¡Ja, ja, ja! ¿Te ha gustado el chiste?\n"
     ]
    }
   ],
   "source": [
    "# Haz que el asistente cuente un chiste con el tono de tu personaje favorito editando el mensaje del sistema.\n",
    "messages =  [      \n",
    "    {'role':'assistant', 'content':'You are an assistant that speaks like Gandalf from The Lord of The Rings'},\n",
    "    {'role':'user', 'content':'Hola Gandalf, me podrias contar un chiste?'}\n",
    "]\n",
    "response = get_completion_from_messages(messages, temperature=0.5)\n",
    "print(response)"
   ]
  },
  {
   "cell_type": "markdown",
   "metadata": {
    "nteract": {
     "transient": {
      "deleting": false
     }
    }
   },
   "source": [
    "#### 1.2.2 Recordar el Nombre de la Empresa"
   ]
  },
  {
   "cell_type": "code",
   "execution_count": 14,
   "metadata": {
    "gather": {
     "logged": 1685059130793
    },
    "jupyter": {
     "outputs_hidden": false,
     "source_hidden": false
    },
    "nteract": {
     "transient": {
      "deleting": false
     }
    }
   },
   "outputs": [
    {
     "name": "stdout",
     "output_type": "stream",
     "text": [
      "I'm sorry, but I do not have access to personal information like that. Can you tell me your employer's name and I can help you with more specific details about that company?\n"
     ]
    }
   ],
   "source": [
    "messages =  [  \n",
    "{'role':'system', 'content':'You are friendly chatbot.'},  \n",
    "{'role':'user', 'content':'Hi, my name is Mel.'},\n",
    "{'role':'assistant', 'content': \"Hi! It's nice to meet you. \\\n",
    "Is there anything I can help you with today?\"},  \n",
    "{'role':'user', 'content':'Yes, can you remind me which company I work for?'}  ]\n",
    "response = get_completion_from_messages(messages, temperature=1)\n",
    "print(response)"
   ]
  },
  {
   "cell_type": "markdown",
   "metadata": {
    "nteract": {
     "transient": {
      "deleting": false
     }
    }
   },
   "source": [
    "#### Tarea para Estudiantes:\n",
    "Haz que el asistente ofrezca un recordatorio confiable del nombre de la empresa proporcionando contexto en el mensaje del sistema."
   ]
  },
  {
   "cell_type": "code",
   "execution_count": 15,
   "metadata": {
    "gather": {
     "logged": 1686939642577
    },
    "jupyter": {
     "outputs_hidden": false,
     "source_hidden": false
    },
    "nteract": {
     "transient": {
      "deleting": false
     }
    }
   },
   "outputs": [
    {
     "name": "stdout",
     "output_type": "stream",
     "text": [
      "Of course! You work for Softtek, which is the company that I represent as a chatbot. Softtek is a global provider of IT services and business process solutions, with more than 30 years of experience in the industry. How can I assist you with anything else, Mel?\n"
     ]
    }
   ],
   "source": [
    "# Haz que el asistente ofrezca un recordatorio confiable del nombre de la empresa proporcionando contexto en el mensaje del sistema.\n",
    "messages =  [  \n",
    "{'role':'system', 'content':'You are friendly chatbot, from the company named Softtek.'},  \n",
    "{'role':'user', 'content':'Hi, my name is Mel.'},\n",
    "{'role':'assistant', 'content': \"Hi! It's nice to meet you. \\\n",
    "Is there anything I can help you with today?\"},  \n",
    "{'role':'user', 'content':'Yes, can you remind me which company I work for?'}  ]\n",
    "response = get_completion_from_messages(messages, temperature=1)\n",
    "print(response)"
   ]
  },
  {
   "cell_type": "markdown",
   "metadata": {
    "nteract": {
     "transient": {
      "deleting": false
     }
    }
   },
   "source": [
    "## 2. Principios de Prompting Iterativo\n",
    "Es una buena práctica realizar un prompting iterativo para que el modelo pueda generar la respuesta más adecuada según las especificaciones del usuario.\n",
    "- **Principio 1: Escribe instrucciones claras y específicas**\n",
    "- **Principio 2: Dale tiempo al modelo para \"pensar\"**\n",
    "\n"
   ]
  },
  {
   "cell_type": "markdown",
   "metadata": {
    "nteract": {
     "transient": {
      "deleting": false
     }
    }
   },
   "source": [
    "### 2.1 Escribe instrucciones claras y específicas"
   ]
  },
  {
   "cell_type": "markdown",
   "metadata": {
    "nteract": {
     "transient": {
      "deleting": false
     }
    }
   },
   "source": [
    "#### Táctica 1: Delimitadores"
   ]
  },
  {
   "cell_type": "markdown",
   "metadata": {
    "nteract": {
     "transient": {
      "deleting": false
     }
    }
   },
   "source": [
    "#### Tarea para Estudiantes:\n",
    "Usa delimitadores para indicar claramente las partes distintas de la entrada.\n",
    "\n",
    "Los delimitadores pueden ser cualquier cosa como: ````, \"\"\", < >, `<tag> </tag>`, `:`"
   ]
  },
  {
   "cell_type": "code",
   "execution_count": 16,
   "metadata": {
    "gather": {
     "logged": 1685081594233
    },
    "jupyter": {
     "outputs_hidden": false,
     "source_hidden": false
    },
    "nteract": {
     "transient": {
      "deleting": false
     }
    }
   },
   "outputs": [],
   "source": [
    "text = f\"\"\"\n",
    "    The 2020 Summer Olympics, officially the Games of the XXXII Olympiad and also known as Tokyo 2020, was an international multi-sport event held from 23 July to 8 August 2021 in Tokyo, Japan, with some preliminary events that began on 21 July 2021. Tokyo was selected as the host city during the 125th IOC Session in Buenos Aires, Argentina, on 7 September 2013.Originally scheduled to take place from 24 July to 9 August 2020, the event was postponed to 2021 on 24 March 2020 due to the global COVID-19 pandemic, the first such instance in the history of the Olympic Games (previous games had been cancelled but not rescheduled). However, the event retained the Tokyo 2020 branding for marketing purposes. It was largely held behind closed doors with no public spectators permitted due to the declaration of a state of emergency in the Greater Tokyo Area in response to the pandemic, the first and only Olympic Games to be held without official spectators. The Games were the most expensive ever, with total spending of over $20 billion.The Games were the fourth Olympic Games to be held in Japan, following the 1964 Summer Olympics (Tokyo), 1972 Winter Olympics (Sapporo), and 1998 Winter Olympics (Nagano). Tokyo became the first city in Asia to hold the Summer Olympic Games twice. The 2020 Games were the second of three consecutive Olympics to be held in East Asia, following the 2018 Winter Olympics in Pyeongchang, South Korea and preceding the 2022 Winter Olympics in Beijing, China. Due to the one-year postponement, Tokyo 2020 was the first and only Olympic Games to have been held in an odd-numbered year and the first Summer Olympics since 1900 to be held in a non-leap year.\\nNew events were introduced in existing sports, including 3x3 basketball, freestyle BMX and mixed gender team events in a number of existing sports, as well as the return of madison cycling for men and an introduction of the same event for women. New IOC policies also allowed the host organizing committee to add new sports to the Olympic program for just one Games. The disciplines added by the Japanese Olympic Committee were baseball and softball, karate, sport climbing, surfing and skateboarding, the last four of which made their Olympic debuts, and the last three of which will remain on the Olympic program.The United States topped the medal count by both total golds (39) and total medals (113), with China finishing second by both respects (38 and 89). Host nation Japan finished third, setting a record for the most gold medals and total medals ever won by their delegation at an Olympic Games with 27 and 58. Great Britain finished fourth, with a total of 22 gold and 64 medals. The Russian delegation competing as the ROC finished fifth with 20 gold medals and third in the overall medal count, with 71 medals. Bermuda, the Philippines and Qatar won their first-ever Olympic gold medals. Burkina Faso, San Marino and Turkmenistan also won their first-ever Olympic medals.'\n",
    "\"\"\""
   ]
  },
  {
   "cell_type": "code",
   "execution_count": 17,
   "metadata": {
    "jupyter": {
     "outputs_hidden": false,
     "source_hidden": false
    },
    "nteract": {
     "transient": {
      "deleting": false
     }
    }
   },
   "outputs": [
    {
     "name": "stdout",
     "output_type": "stream",
     "text": [
      "En el texto se presenta una breve introducción sobre los diferentes tipos de bases de datos existentes, incluyendo las bases de datos SQL que utilizan un modelo relacional y las bases de datos No-SQL que utilizan otros modelos, como las bases de grafos, key-value o column family.\n"
     ]
    }
   ],
   "source": [
    "# Usa delimitadores para indicar claramente las partes distintas de la entrada y pide al modelo que resuma el texto.\n",
    "text = f\"\"\"\n",
    "<Query> Podrias resumir el siguiente texto?<Query>\n",
    "<Intro>En este texto vamos a hablar de ditintos tipos de bases de datos<Intro>\n",
    "<Desarrollo>\n",
    "Exite una gran variedad de bases de datos, aunque en general se suelen dividir en dos grupos principales:\n",
    "Las bases de datos SQL que utilizan un modelo relacional y las bases de datos No-SQL que utilizan otros modelos, como las bases de grafos, key-value o column family.\n",
    "<Desarrollo>\n",
    "\"\"\"\n",
    "\n",
    "response = get_chat_completion(text)\n",
    "\n",
    "print(response)"
   ]
  },
  {
   "cell_type": "markdown",
   "metadata": {
    "nteract": {
     "transient": {
      "deleting": false
     }
    }
   },
   "source": [
    "#### Táctica 2: Resumen: especificar el número de palabras, extraer información"
   ]
  },
  {
   "cell_type": "markdown",
   "metadata": {
    "nteract": {
     "transient": {
      "deleting": false
     }
    }
   },
   "source": [
    "#### Texto a resumir"
   ]
  },
  {
   "cell_type": "code",
   "execution_count": 18,
   "metadata": {
    "gather": {
     "logged": 1685059771050
    },
    "jupyter": {
     "outputs_hidden": false,
     "source_hidden": false
    },
    "nteract": {
     "transient": {
      "deleting": false
     }
    }
   },
   "outputs": [],
   "source": [
    "game_review = \"\"\"\n",
    "The 2020 Summer Olympics, officially the Games of the XXXII Olympiad and also known as Tokyo 2020, \\\n",
    "was an international multi-sport event held from 23 July to 8 August 2021 in Tokyo, Japan, \\\n",
    "with some preliminary events that began on 21 July 2021. Tokyo was selected as the host city during the 125th IOC Session in Buenos Aires, Argentina, \\\n",
    "on 7 September 2013.Originally scheduled to take place from 24 July to 9 August 2020, the event was postponed to 2021 on 24 March 2020 due to the global COVID-19 pandemic, \\\n",
    "the first such instance in the history of the Olympic Games (previous games had been cancelled but not rescheduled). \\\n",
    "However, the event retained the Tokyo 2020 branding for marketing purposes. \\\n",
    "It was largely held behind closed doors with no public spectators permitted due to the declaration of a state of emergency in the Greater Tokyo Area in response to the pandemic, the first and only Olympic Games to be held without official spectators. \\\n",
    "The Games were the most expensive ever, with total spending of over $20 billion. \\\n",
    "The Games were the fourth Olympic Games to be held in Japan, following the 1964 Summer Olympics (Tokyo), 1972 Winter Olympics (Sapporo), \\\n",
    "and 1998 Winter Olympics (Nagano). Tokyo became the first city in Asia to hold the Summer Olympic Games twice. \\\n",
    "The 2020 Games were the second of three consecutive Olympics to be held in East Asia, following the 2018 Winter Olympics in Pyeongchang, \\\n",
    "South Korea and preceding the 2022 Winter Olympics in Beijing, China. \\\n",
    "Due to the one-year postponement, Tokyo 2020 was the first and only Olympic Games to have been held in an odd-numbered year and the first Summer Olympics since 1900 to be held in a non-leap year.\n",
    "New events were introduced in existing sports, including 3x3 basketball, \\\n",
    "freestyle BMX and mixed gender team events in a number of existing sports, as well as the return of madison cycling for men and an introduction of the same event for women. \\\n",
    "New IOC policies also allowed the host organizing committee to add new sports to the Olympic program for just one Games. \\\n",
    "The disciplines added by the Japanese Olympic Committee were baseball and softball, karate, \\\n",
    "sport climbing, surfing and skateboarding, the last four of which made their Olympic debuts, and the last three of which will remain on the Olympic program. \\\n",
    "The United States topped the medal count by both total golds (39) and total medals (113), with China finishing second by both respects (38 and 89). \\\n",
    "Host nation Japan finished third, setting a record for the most gold medals and total medals ever won by their delegation at an Olympic Games with 27 and 58. \\\n",
    "Great Britain finished fourth, with a total of 22 gold and 64 medals. \\\n",
    "The Russian delegation competing as the ROC finished fifth with 20 gold medals and third in the overall medal count, with 71 medals. \\\n",
    "Bermuda, the Philippines and Qatar won their first-ever Olympic gold medals. Burkina Faso, San Marino and Turkmenistan also won their first-ever Olympic medals.\n",
    "\"\"\""
   ]
  },
  {
   "cell_type": "code",
   "execution_count": null,
   "metadata": {},
   "outputs": [],
   "source": []
  },
  {
   "cell_type": "markdown",
   "metadata": {
    "nteract": {
     "transient": {
      "deleting": false
     }
    }
   },
   "source": [
    "#### Tarea para Estudiantes:\n",
    "Crea un resumen, centrándote en los aspectos especiales de los Juegos Olímpicos de Verano 2020 y con un límite de palabras."
   ]
  },
  {
   "cell_type": "code",
   "execution_count": 19,
   "metadata": {
    "jupyter": {
     "outputs_hidden": false,
     "source_hidden": false
    },
    "nteract": {
     "transient": {
      "deleting": false
     }
    }
   },
   "outputs": [
    {
     "name": "stdout",
     "output_type": "stream",
     "text": [
      "The 2020 Summer Olympics, held in Tokyo, Japan, was an international multi-sport event that took place from 23 July to 8 August 2021. The event was originally scheduled to take place in 2020, but was postponed due to the COVID-19 pandemic. The Games were held largely behind closed doors with no public spectators permitted due to the pandemic, making it the first and only Olympic Games to be held without official spectators. New events were introduced in existing sports, and new sports were added to the Olympic program, including baseball and softball, karate, sport climbing, surfing, and skateboarding. The United States topped the medal count, with China finishing second and host nation Japan finishing third, setting a record for\n"
     ]
    }
   ],
   "source": [
    "# Crea un resumen, centrándote en los aspectos especiales de los Juegos Olímpicos de Verano 2020 y con un límite de palabras.\n",
    "messages = [  \n",
    "{'role':'system', 'content':'You are friendly chatbot, from the company named Softtek.'},  \n",
    "{'role' : 'user', 'content' : 'Please summarize the following text, focus on the particular special aspects of this olympic games'},\n",
    "{'role': 'user', 'content':  game_review} ]\n",
    "\n",
    "summarization = get_completion_from_messages(messages, chat_model, temperature=0.5, max_tokens=150)\n",
    "\n",
    "print(summarization)"
   ]
  },
  {
   "cell_type": "markdown",
   "metadata": {
    "nteract": {
     "transient": {
      "deleting": false
     }
    }
   },
   "source": [
    "#### Tarea para Estudiantes:\n",
    "Intenta \"extract\" en vez de \"summarize\" (\"extraer\" en vez de \"resumir\")"
   ]
  },
  {
   "cell_type": "code",
   "execution_count": 20,
   "metadata": {
    "jupyter": {
     "outputs_hidden": false,
     "source_hidden": false
    },
    "nteract": {
     "transient": {
      "deleting": false
     }
    }
   },
   "outputs": [
    {
     "name": "stdout",
     "output_type": "stream",
     "text": [
      "The most important and special aspects of the 2020 Summer Olympics are as follows:\n",
      "\n",
      "1. The event was postponed for the first time in history due to the global COVID-19 pandemic, and it was held without official spectators, making it a unique and historic event.\n",
      "\n",
      "2. The Games were the most expensive ever, with total spending of over $20 billion.\n",
      "\n",
      "3. New events were introduced in existing sports, including 3x3 basketball, freestyle BMX and mixed gender team events in a number of existing sports, as well as the return of madison cycling for men and an introduction of the same event for women.\n",
      "\n",
      "4. New IOC policies allowed the host organizing committee to add new sports to the Olympic program for just one Games,\n"
     ]
    }
   ],
   "source": [
    "# Intenta \"extract\" en vez de \"summarize\" (\"extraer\" en vez de \"resumir\")\n",
    "messages = [  \n",
    "{'role':'system', 'content':'You are friendly chatbot, from the company named Softtek.'},  \n",
    "{'role' : 'user', 'content' : 'Please extract from this text the most important and special aspects of this olympics games'},\n",
    "{'role': 'user', 'content':  game_review} ]\n",
    "\n",
    "extraction = get_completion_from_messages(messages, chat_model, temperature=0.5, max_tokens=150)\n",
    "\n",
    "print(extraction)"
   ]
  },
  {
   "cell_type": "markdown",
   "metadata": {
    "nteract": {
     "transient": {
      "deleting": false
     }
    }
   },
   "source": [
    "#### Táctica 3: Inferencia: solicitar emociones, sentimientos o temas"
   ]
  },
  {
   "cell_type": "markdown",
   "metadata": {
    "nteract": {
     "transient": {
      "deleting": false
     }
    }
   },
   "source": [
    "#### Tarea para Estudiantes:\n",
    "Identifica los tipos de emociones y el sentimiento (positivo/negativo) de la siguiente reseña.\n",
    "\n",
    "Usa un objeto JSON."
   ]
  },
  {
   "cell_type": "code",
   "execution_count": 21,
   "metadata": {
    "jupyter": {
     "outputs_hidden": false,
     "source_hidden": false
    },
    "nteract": {
     "transient": {
      "deleting": false
     }
    }
   },
   "outputs": [],
   "source": [
    "review = \"\"\"\n",
    "Philip Barker of Inside the Games opined that for many athletes and supporters, \\\n",
    "the tone of the ceremony was dignified and appropriate. Hashimoto stated in a press interview that the flame would \"quietly go out\", \\\n",
    "which he felt that \"It was an apt description of a dignified and low key Ceremony which conveyed a sense of gratitude that the Games had been able to take place at all.\"\\\n",
    "Dominic Patten of Deadline Hollywood argued that the ceremony was an \"uneven mixtape\" of contrasts, \\\n",
    "comparing the low-key \"celebration of the culture of the Asian power and brow moping acknowledgement of the pandemic\" to the jubilant Paris segment, \\\n",
    "as well as clichÃ©-filled speech of Thomas Bach. Alan Tyres of The Daily Telegraph discussed the IOC updated motto as a sign of things to come. \\\n",
    "He stated, \"The updated Olympic motto of 'faster, higher, \\\n",
    "stronger â€“ together' fits with how sport is covered and contextualised at this moment in history: \\\n",
    "inclusion, diversity, justice and a duty of care to the athletes must be taken into consideration as much as performance.\" \\\n",
    "He also discussed the strangeness of the ceremony, as it was performed without a stadium audience.\n",
    "\"\"\""
   ]
  },
  {
   "cell_type": "code",
   "execution_count": 22,
   "metadata": {
    "jupyter": {
     "outputs_hidden": false,
     "source_hidden": false
    },
    "nteract": {
     "transient": {
      "deleting": false
     }
    }
   },
   "outputs": [
    {
     "name": "stdout",
     "output_type": "stream",
     "text": [
      "Sentiments Detected:\n",
      "- Positive: \"dignified\", \"appropriate\", \"gratitude\", \"low-key\"\n",
      "- Negative: \"uneven mixtape\", \"brow moping acknowledgement\"\n",
      "- Neutral: \"strangeness\"\n"
     ]
    }
   ],
   "source": [
    "# Identifica los tipos de emociones y el sentimiento (positivo/negativo) de la siguiente reseña. Usa un objeto JSON\n",
    "messages = [\n",
    "    {'role': 'system', 'content': 'You are an sentiment and emotions extractor. Your job is to identify emotions and sentimento from a text given by the use. The format of your answer must be the following: <Sentiment> here write the text that evokate this sentiment <Sentiment>, you must writ a list of all your sentiment detected'},\n",
    "    {'role': 'user', 'content': review}\n",
    "]\n",
    "\n",
    "emotions = get_completion_from_messages(messages, chat_model, 0.5, 200, 0)\n",
    "\n",
    "print(emotions)"
   ]
  },
  {
   "cell_type": "markdown",
   "metadata": {
    "nteract": {
     "transient": {
      "deleting": false
     }
    }
   },
   "source": [
    "#### Desafío para Estudiantes:\n",
    "Deduce 3 temas (tópicos) de la historia a continuación."
   ]
  },
  {
   "cell_type": "code",
   "execution_count": 23,
   "metadata": {
    "jupyter": {
     "outputs_hidden": false,
     "source_hidden": false
    },
    "nteract": {
     "transient": {
      "deleting": false
     }
    }
   },
   "outputs": [],
   "source": [
    "story = \"\"\"\n",
    "The 2020 Summer Olympics, officially the Games of the XXXII Olympiad and also known as Tokyo 2020, \\\n",
    "was an international multi-sport event held from 23 July to 8 August 2021 in Tokyo, Japan, \\\n",
    "with some preliminary events that began on 21 July 2021. Tokyo was selected as the host city during the 125th IOC Session in Buenos Aires, Argentina, \\\n",
    "on 7 September 2013.Originally scheduled to take place from 24 July to 9 August 2020, the event was postponed to 2021 on 24 March 2020 due to the global COVID-19 pandemic, \\\n",
    "the first such instance in the history of the Olympic Games (previous games had been cancelled but not rescheduled). \\\n",
    "However, the event retained the Tokyo 2020 branding for marketing purposes. \\\n",
    "It was largely held behind closed doors with no public spectators permitted due to the declaration of a state of emergency in the Greater Tokyo Area in response to the pandemic, the first and only Olympic Games to be held without official spectators. \\\n",
    "The Games were the most expensive ever, with total spending of over $20 billion. \\\n",
    "The Games were the fourth Olympic Games to be held in Japan, following the 1964 Summer Olympics (Tokyo), 1972 Winter Olympics (Sapporo), \\\n",
    "and 1998 Winter Olympics (Nagano). Tokyo became the first city in Asia to hold the Summer Olympic Games twice. \\\n",
    "The 2020 Games were the second of three consecutive Olympics to be held in East Asia, following the 2018 Winter Olympics in Pyeongchang, \\\n",
    "South Korea and preceding the 2022 Winter Olympics in Beijing, China. \\\n",
    "Due to the one-year postponement, Tokyo 2020 was the first and only Olympic Games to have been held in an odd-numbered year and the first Summer Olympics since 1900 to be held in a non-leap year.\n",
    "New events were introduced in existing sports, including 3x3 basketball, \\\n",
    "freestyle BMX and mixed gender team events in a number of existing sports, as well as the return of madison cycling for men and an introduction of the same event for women. \\\n",
    "New IOC policies also allowed the host organizing committee to add new sports to the Olympic program for just one Games. \\\n",
    "The disciplines added by the Japanese Olympic Committee were baseball and softball, karate, \\\n",
    "sport climbing, surfing and skateboarding, the last four of which made their Olympic debuts, and the last three of which will remain on the Olympic program. \\\n",
    "The United States topped the medal count by both total golds (39) and total medals (113), with China finishing second by both respects (38 and 89). \\\n",
    "Host nation Japan finished third, setting a record for the most gold medals and total medals ever won by their delegation at an Olympic Games with 27 and 58. \\\n",
    "Great Britain finished fourth, with a total of 22 gold and 64 medals. \\\n",
    "The Russian delegation competing as the ROC finished fifth with 20 gold medals and third in the overall medal count, with 71 medals. \\\n",
    "Bermuda, the Philippines and Qatar won their first-ever Olympic gold medals. Burkina Faso, San Marino and Turkmenistan also won their first-ever Olympic medals.\n",
    "\"\"\""
   ]
  },
  {
   "cell_type": "code",
   "execution_count": 24,
   "metadata": {
    "jupyter": {
     "outputs_hidden": false,
     "source_hidden": false
    },
    "nteract": {
     "transient": {
      "deleting": false
     }
    }
   },
   "outputs": [
    {
     "name": "stdout",
     "output_type": "stream",
     "text": [
      "<Olympic Games> The 2020 Summer Olympics, officially the Games of the XXXII Olympiad and also known as Tokyo 2020, was an international multi-sport event held from 23 July to 8 August 2021 in Tokyo, Japan.\n",
      "\n",
      "<Host City> Tokyo was selected as the host city during the 125th IOC Session in Buenos Aires, Argentina, on 7 September 2013.\n",
      "\n",
      "<Postponement> Originally scheduled to take place from 24 July to 9 August 2020, the event was postponed to 2021 on 24 March 2020 due to the global COVID-19 pandemic.\n",
      "\n",
      "<Expenses> The Games were the most expensive ever, with total spending of over $20 billion.\n",
      "\n",
      "<No Spectators> It was largely held behind closed doors with no public spectators permitted due to the declaration of a state of emergency in the Greater Tokyo Area in response to the pandemic, the first and only Olympic Games to be held without official\n"
     ]
    }
   ],
   "source": [
    "# Deduce 3 temas (tópicos) de la historia a continuación.\n",
    "\n",
    "topic_system_prompt = 'You are a topic extractor IA, your job its to extract topics from a text given by the user. You must label all the text of the given text like this: <Topic> followed with the text labeled with the Topic'\n",
    "\n",
    "messages = [\n",
    "    {'role': 'system', 'content':topic_system_prompt },\n",
    "    {'role': 'user', 'content': story}\n",
    "]\n",
    "\n",
    "topics = get_completion_from_messages(messages, chat_model, 0.5, 200, 0)\n",
    "\n",
    "print(topics)\n"
   ]
  },
  {
   "cell_type": "markdown",
   "metadata": {
    "nteract": {
     "transient": {
      "deleting": false
     }
    }
   },
   "source": [
    "#### Táctica 4: Transformación: especifica el idioma objetivo y el estilo de escritura, y solicita una revisión gramatical."
   ]
  },
  {
   "cell_type": "markdown",
   "metadata": {
    "nteract": {
     "transient": {
      "deleting": false
     }
    }
   },
   "source": [
    "#### Tarea para Estudiantes:\n",
    "Traductor Universal\n",
    "\n",
    "Personas de todo el mundo desean conocer las noticias de los Juegos Olímpicos en su idioma nativo. En este caso, las noticias deben ser traducidas a diferentes idiomas. Traduce cada elemento de noticias a continuación tanto al coreano como al inglés."
   ]
  },
  {
   "cell_type": "code",
   "execution_count": 25,
   "metadata": {
    "jupyter": {
     "outputs_hidden": false,
     "source_hidden": false
    },
    "nteract": {
     "transient": {
      "deleting": false
     }
    }
   },
   "outputs": [],
   "source": [
    "news = [\n",
    "\"Palestine received a universality invitation from FINA to send two top-ranked swimmers (one per gender) in their respective individual events to the Olympics, \\\n",
    "based on the FINA Points System of June 28, 2021.\",\n",
    "\"比赛包括两轮：预赛和决赛。预赛成绩最好的8次接力队晋级决赛。必要时使用游泳比赛来打破平局以晋级下一轮。\"]"
   ]
  },
  {
   "cell_type": "code",
   "execution_count": 26,
   "metadata": {
    "jupyter": {
     "outputs_hidden": false,
     "source_hidden": false
    },
    "nteract": {
     "transient": {
      "deleting": false
     }
    }
   },
   "outputs": [
    {
     "name": "stdout",
     "output_type": "stream",
     "text": [
      "Translating the following text \"Palestine received a universality invitation from FINA to send two top-ranked swimmers (one per gender) in their respective individual events to the Olympics, based on the FINA Points System of June 28, 2021.\" to Korean: \n",
      "팔레스타인은 2021년 6월 28일 FINA 포인트 시스템을 기반으로 각각의 개인 종목에서 상위 랭킹 수영 선수 1명(성별에 따라)을 올림픽에 파견하는 대학적 초청을 받았습니다.\n",
      "\n",
      "Translating the following text \"The competition consists of two rounds: the heats and the final. The top eight relay teams with the best times in the heats advance to the final. If necessary, swim-offs are used to break ties for advancement to the next round.\" to English:\n",
      "The competition consists of two rounds: the heats and the final. The top eight relay teams with the best times in the heats advance to the final. If necessary, swim-offs are used to break ties for advancement to the next round.\n"
     ]
    }
   ],
   "source": [
    "# Escribe aquí el código para la tarea .\n",
    "translator_system_prompt = 'You are a translator. Your job its to translate the text provided by the user to korean if its in english and to english if the source language its korean, your response must by formated with the original text followed by the translation. For example: \\\n",
    "    user provided text: El dia martes a las 9 de la mañana hubo un choque en la ruta 9 \\\n",
    "    the excpected answer should besomething like: \"Translating the following text  El dia martes a las 9 de la mañana hubo un choque en la ruta 9 to korean: <Translation>\"'\n",
    "\n",
    "messages = [\n",
    "    {'role': 'system', 'content': translator_system_prompt},\n",
    "    {'role': 'user', 'content': 'Hola, podrias traducir las siguientes noticias al ingles y al coreano respectivamente?'}\n",
    "]\n",
    "\n",
    "\n",
    "\n",
    "for new in news: \n",
    "    messages.append({'role': 'user', 'content': new})\n",
    "\n",
    "\n",
    "translations = get_completion_from_messages(messages, chat_model, 0.5, 500, 0)\n",
    "\n",
    "print(translations)"
   ]
  },
  {
   "cell_type": "markdown",
   "metadata": {
    "nteract": {
     "transient": {
      "deleting": false
     }
    }
   },
   "source": [
    "#### Tarea para Estudiantes:\n",
    "Transformación de Tono\n",
    "\n",
    "La escritura puede variar según la audiencia objetivo. ChatGPT puede producir diferentes tonos. Transforma el siguiente mensaje en una carta de negocios."
   ]
  },
  {
   "cell_type": "code",
   "execution_count": 27,
   "metadata": {
    "gather": {
     "logged": 1685082786641
    },
    "jupyter": {
     "outputs_hidden": false,
     "source_hidden": false
    },
    "nteract": {
     "transient": {
      "deleting": false
     }
    }
   },
   "outputs": [],
   "source": [
    "original_message = \"David, it's John! OMG, the Olympic game is so crazy\""
   ]
  },
  {
   "cell_type": "code",
   "execution_count": 28,
   "metadata": {
    "jupyter": {
     "outputs_hidden": false,
     "source_hidden": false
    },
    "nteract": {
     "transient": {
      "deleting": false
     }
    }
   },
   "outputs": [
    {
     "name": "stdout",
     "output_type": "stream",
     "text": [
      "Dear David,\n",
      "\n",
      "I hope this letter finds you well. I wanted to touch base with you regarding the Olympic games and share my excitement. The competition has been nothing short of breathtaking, and I am pleased to have had the opportunity to witness such an impressive display of athleticism.\n",
      "\n",
      "Thank you for your time, and I look forward to hearing your thoughts on the games.\n",
      "\n",
      "Sincerely,\n",
      "\n",
      "John\n"
     ]
    }
   ],
   "source": [
    "# Escribe aquí el código para la tarea .\n",
    "business_letter = get_chat_completion('Please, change the tone of the following message to a formal business letter: ' + original_message)\n",
    "\n",
    "print(business_letter)"
   ]
  },
  {
   "cell_type": "markdown",
   "metadata": {
    "nteract": {
     "transient": {
      "deleting": false
     }
    }
   },
   "source": [
    "#### Tarea para Estudiantes:\n",
    "Conversión de Formato\n",
    "\n",
    "ChatGPT puede traducir entre formatos. El prompt debe describir los formatos de entrada y salida. Convierte los siguientes datos JSON al formato HTML."
   ]
  },
  {
   "cell_type": "code",
   "execution_count": 29,
   "metadata": {
    "gather": {
     "logged": 1685083768996
    },
    "jupyter": {
     "outputs_hidden": false,
     "source_hidden": false
    },
    "nteract": {
     "transient": {
      "deleting": false
     }
    }
   },
   "outputs": [],
   "source": [
    "data_json = { \"The 2020 Summer Olympics Opening Ceremony audience name list\" :[ \n",
    "    {\"name\":\"Shyam\", \"email\":\"shyamjaiswal@gmail.com\"},\n",
    "    {\"name\":\"Bob\", \"email\":\"bob32@gmail.com\"},\n",
    "    {\"name\":\"Jai\", \"email\":\"jai87@gmail.com\"}\n",
    "]}\n"
   ]
  },
  {
   "cell_type": "code",
   "execution_count": 30,
   "metadata": {
    "jupyter": {
     "outputs_hidden": false,
     "source_hidden": false
    },
    "nteract": {
     "transient": {
      "deleting": false
     }
    }
   },
   "outputs": [
    {
     "name": "stdout",
     "output_type": "stream",
     "text": [
      "<table>\n",
      "  <thead>\n",
      "    <tr>\n",
      "      <th>The 2020 Summer Olympics Opening Ceremony audience name list</th>\n",
      "    </tr>\n",
      "    <tr>\n",
      "      <th>Name</th>\n",
      "      <th>Email</th>\n",
      "    </tr>\n",
      "  </thead>\n",
      "  <tbody>\n",
      "    <tr>\n",
      "      <td>Shyam</td>\n",
      "      <td>shyamjaiswal@gmail.com</td>\n",
      "    </tr>\n",
      "    <tr>\n",
      "      <td>Bob</td>\n",
      "      <td>bob32@gmail.com</td>\n",
      "    </tr>\n",
      "    <tr>\n",
      "      <td>Jai</td>\n",
      "      <td>jai87@gmail.com</td>\n",
      "    </tr>\n",
      "  </tbody>\n",
      "</table>\n"
     ]
    }
   ],
   "source": [
    "# Escribe aquí el código para la tarea .\n",
    "\n",
    "html_response = get_chat_completion(\"Hola, podrias pasar el siguiente json a formato html?\" + str(data_json))\n",
    "\n",
    "print(html_response)"
   ]
  },
  {
   "cell_type": "markdown",
   "metadata": {
    "nteract": {
     "transient": {
      "deleting": false
     }
    }
   },
   "source": [
    "#### Tarea para Estudiantes:\n",
    "Revisión ortográfica y gramatical del siguiente texto.\n",
    "\n",
    "Para indicarle al modelo LLM que deseas que revise tu texto, instruye al modelo para que 'revise' o 'revise y corrija'."
   ]
  },
  {
   "cell_type": "code",
   "execution_count": 31,
   "metadata": {
    "gather": {
     "logged": 1685084954682
    },
    "jupyter": {
     "outputs_hidden": false,
     "source_hidden": false
    },
    "nteract": {
     "transient": {
      "deleting": false
     }
    }
   },
   "outputs": [],
   "source": [
    "check_text = [ \n",
    "  \"Alongside the main Emblem blue, the five other colors use in the branding of the 2020 Games is : Kurenai red,   Ai blue,   Sakula pink,   Fuji purple, and   Matsuba green.\",\n",
    "  \"The competition have three round: heats, semifinals, and a final.\"\n",
    "]"
   ]
  },
  {
   "cell_type": "code",
   "execution_count": 32,
   "metadata": {},
   "outputs": [],
   "source": [
    "def add_user_instructions(messages, prompt_list):\n",
    "    for prompt in prompt_list:\n",
    "        messages.append({'role': 'user', 'content': prompt})\n",
    "    return messages"
   ]
  },
  {
   "cell_type": "code",
   "execution_count": 33,
   "metadata": {
    "jupyter": {
     "outputs_hidden": false,
     "source_hidden": false
    },
    "nteract": {
     "transient": {
      "deleting": false
     }
    }
   },
   "outputs": [
    {
     "name": "stdout",
     "output_type": "stream",
     "text": [
      "Here you have your text fixed: \n",
      "\n",
      "Alongside the main emblem blue, the five other colors used in the branding of the 2020 Games are Kurenai red, Ai blue, Sakula pink, Fuji purple, and Matsuba green. \n",
      "\n",
      "The competition has three rounds: heats, semifinals, and a final.\n"
     ]
    }
   ],
   "source": [
    "# Escribe aquí el código para la tarea .\n",
    "grammar_assistance_system_prompt = 'You are a bot that helps checking the grammar, fixing mistakes and suggesting potential improvements. \\\n",
    "    given a text by the user your job its to find all grammar mistakes and fix it. \\\n",
    "    Your answer must start with: \"Here you have your text fixed!\"'\n",
    "\n",
    "messages = [\n",
    "    {'role': 'system', 'content': grammar_assistance_system_prompt}\n",
    "]\n",
    "\n",
    "messages = add_user_instructions(messages, check_text)\n",
    "\n",
    "fixed_text = get_completion_from_messages(messages, chat_model, 0.5, 500, 0)\n",
    "\n",
    "print(fixed_text)\n"
   ]
  },
  {
   "cell_type": "markdown",
   "metadata": {
    "nteract": {
     "transient": {
      "deleting": false
     }
    }
   },
   "source": [
    "#### Táctica 5: Ampliación: personaliza la respuesta automática"
   ]
  },
  {
   "cell_type": "markdown",
   "metadata": {
    "nteract": {
     "transient": {
      "deleting": false
     }
    }
   },
   "source": [
    "#### Tarea para Estudiantes:\n",
    "Personaliza la respuesta automática al siguiente correo electrónico de un cliente.\n",
    "\n",
    "El cliente tuvo un problema al comprar un boleto para los Juegos Olímpicos."
   ]
  },
  {
   "cell_type": "code",
   "execution_count": 34,
   "metadata": {
    "gather": {
     "logged": 1685463156048
    },
    "jupyter": {
     "outputs_hidden": false,
     "source_hidden": false
    },
    "nteract": {
     "transient": {
      "deleting": false
     }
    }
   },
   "outputs": [],
   "source": [
    "# given the sentiment from the tactic on \"inferring\",\n",
    "# and the original customer message, customize the email\n",
    "sentiment = \"negative\"\n",
    "\n",
    "# review for a ticket transaction\n",
    "review = f\"\"\"\n",
    "I bought the ticket of \"Men's 100 metre freestyle swimming\" game last week.\\\n",
    "The transaction went through successfully. However, I still have not received the ticket.\\\n",
    "Over one week has passed.\\\n",
    "\"\"\""
   ]
  },
  {
   "cell_type": "code",
   "execution_count": 35,
   "metadata": {
    "jupyter": {
     "outputs_hidden": false,
     "source_hidden": false
    },
    "nteract": {
     "transient": {
      "deleting": false
     }
    }
   },
   "outputs": [
    {
     "name": "stdout",
     "output_type": "stream",
     "text": [
      "I'm sorry to hear that you haven't received your ticket yet. I understand that this can be frustrating. Let me check on the status of your ticket for you. Can you please provide me with your order number?\n"
     ]
    }
   ],
   "source": [
    "# Escribe aquí el código para la tarea .\n",
    "automatic_ticket_support_prompt = 'You are a chatbot that helps the user with its problems using our service for buying tickets. Its important that your answer have to be based on the user sentiment'\n",
    "\n",
    "messages = [\n",
    "    {'role': 'system', 'content': automatic_ticket_support_prompt}\n",
    "]\n",
    "\n",
    "messages = add_user_instructions(messages, [\"user sentiment its: \" + sentiment, review])\n",
    "\n",
    "automatic_response = get_completion_from_messages(messages, chat_model, 0.5, 200, 0)\n",
    "\n",
    "print(automatic_response)"
   ]
  },
  {
   "cell_type": "markdown",
   "metadata": {
    "nteract": {
     "transient": {
      "deleting": false
     }
    }
   },
   "source": [
    "#### Táctica 6: Chatbot: personalizar conversaciones para tareas o comportamientos específicos"
   ]
  },
  {
   "cell_type": "markdown",
   "metadata": {
    "nteract": {
     "transient": {
      "deleting": false
     }
    }
   },
   "source": [
    "#### Tarea para Estudiantes:\n",
    "Crear una conversación con el chatbot para saber dónde se celebraron los Juegos Olímpicos de Verano de 2020."
   ]
  },
  {
   "cell_type": "code",
   "execution_count": 36,
   "metadata": {
    "jupyter": {
     "outputs_hidden": false,
     "source_hidden": false
    },
    "nteract": {
     "transient": {
      "deleting": false
     }
    }
   },
   "outputs": [
    {
     "name": "stdout",
     "output_type": "stream",
     "text": [
      "¡Hola! Claro que sí, los Juegos Olímpicos de Verano de 2020 se celebraron en la ciudad de Tokio, Japón. ¿Te gustaría saber algo más sobre los juegos olimpicos de verano de 2020?\n"
     ]
    }
   ],
   "source": [
    "# Escribe aquí el código para la tarea .\n",
    "olympics_system_prompt = \"You are a chatbot thar helps the user to get information about the Summer Olympic Games 2020\"\n",
    "\n",
    "messages = [\n",
    "    {'role': 'system', 'content': olympics_system_prompt},\n",
    "    {'role': 'user', 'content': 'Hola! Me podrias brindar informacion para saber en donde se celebraron los juegos olimpicos de verano de 2020?'}\n",
    "]\n",
    "\n",
    "response = get_completion_from_messages(messages, chat_model, 0.5, 200, 0)\n",
    "\n",
    "print(response)"
   ]
  },
  {
   "cell_type": "markdown",
   "metadata": {
    "nteract": {
     "transient": {
      "deleting": false
     }
    }
   },
   "source": [
    "### 2.2 Dale tiempo al modelo para \"pensar\""
   ]
  },
  {
   "cell_type": "markdown",
   "metadata": {
    "nteract": {
     "transient": {
      "deleting": false
     }
    }
   },
   "source": [
    "#### Táctica 1: Especificar los pasos necesarios para completar una tarea\n",
    "A veces puedes ayudar al modelo a \"ralentizarse\" y ofrecer respuestas más robustas y detalladas especificando los pasos que debe seguir.\n",
    "\n",
    "Pidamos la salida en varios formatos especificados."
   ]
  },
  {
   "cell_type": "code",
   "execution_count": 37,
   "metadata": {
    "gather": {
     "logged": 1685051679218
    },
    "jupyter": {
     "outputs_hidden": false,
     "source_hidden": false
    },
    "nteract": {
     "transient": {
      "deleting": false
     }
    }
   },
   "outputs": [
    {
     "data": {
      "text/plain": [
       "'<div>\\n  <h1>Tipos de Bases de Datos</h1>\\n</div>\\n\\n<p>Categorías: Bases de Datos, SQL, No-SQL, Modelos</p>\\n\\n<table>\\n  <tr>\\n    <th>Título</th>\\n    <th>Palabras Clave</th>\\n  </tr>\\n  <tr>\\n    <td>Dos grupos principales de bases de datos</td>\\n    <td>SQL, modelo relacional, No-SQL, bases de grafos, key-value, column family</td>\\n  </tr>\\n\\n</table>\\n\\n<h2>Información de Publicación del Artículo</h2>'"
      ]
     },
     "execution_count": 37,
     "metadata": {},
     "output_type": "execute_result"
    }
   ],
   "source": [
    "prompt = f\"\"\"\n",
    "Your task is to help a journalist summarize information from the article for publication.\n",
    "\n",
    "Write a title based on the information provided in the context delimited by triple backticks. \n",
    "The title should be short, catchy, and reflective of the article's narrative.\n",
    "\n",
    "After the title, generate five keywords from the context.\n",
    "\n",
    "After the keywords, include a table to organize the information. \n",
    "The table should have two columns. In the first column is the title.\n",
    "In the second column include the keywords as a list.\n",
    "\n",
    "Give the table the title 'Article Publishing Information'.\n",
    "\n",
    "Format everything as HTML that can be used in a website.\n",
    "Place the title in a <div> element.\n",
    "\n",
    "Context: ```{text}\n",
    "\n",
    "\"\"\" \n",
    "\n",
    "get_chat_completion(prompt)"
   ]
  },
  {
   "cell_type": "markdown",
   "metadata": {},
   "source": []
  },
  {
   "cell_type": "markdown",
   "metadata": {
    "nteract": {
     "transient": {
      "deleting": false
     }
    }
   },
   "source": [
    "#### Táctica 2: Instruir al modelo para que desarrolle su propia solución\n",
    "\n",
    "Existen dos métodos principales que demostraremos en esta sección para lograr que el modelo resuelva un problema en lugar de apresurarse a una conclusión: cadena de pensamiento (chain-of-thought) y encadenamiento (chaining). Estas estrategias pueden llevar a una mayor precisión, detalle y la capacidad de resolver desafíos complejos.\n",
    "\n",
    "\n",
    "2.1 - Prompting de cadena de pensamiento (Chain-of-thought)\n",
    "- Pedir al modelo que razone\n",
    "- Ejemplo de un solo disparo (one-shot)\n",
    "- Razonamiento del chatbot\n",
    "\n",
    "2.2 - Encadenamiento (Chaining)\n",
    "\n",
    "Continuemos trabajando con el conjunto de datos de los Juegos Olímpicos."
   ]
  },
  {
   "cell_type": "markdown",
   "metadata": {
    "nteract": {
     "transient": {
      "deleting": false
     }
    }
   },
   "source": [
    "#### 2.2.1 Prompting de Cadena de Pensamiento (Chain-of-Thought Prompting)\n",
    "\n",
    "Hagamos un poco de matemáticas. Los modelos de GPT ocasionalmente no resuelven muy bien problemas matemáticos directos, así que guiemos al modelo a través del problema.\n",
    "\n",
    "Descomponemos las tareas en piezas más pequeñas.\n",
    "\n",
    "Lee más sobre los métodos y la investigación en el documento técnico: https://github.com/openai/openai-cookbook/blob/main/techniques_to_improve_reliability.md"
   ]
  },
  {
   "cell_type": "markdown",
   "metadata": {
    "nteract": {
     "transient": {
      "deleting": false
     }
    }
   },
   "source": [
    "#### Táctica 1: Puedes comenzar pidiéndole específicamente al modelo que piense paso a paso."
   ]
  },
  {
   "cell_type": "code",
   "execution_count": 38,
   "metadata": {
    "gather": {
     "logged": 1685051978623
    },
    "jupyter": {
     "outputs_hidden": false,
     "source_hidden": false
    },
    "nteract": {
     "transient": {
      "deleting": false
     }
    }
   },
   "outputs": [
    {
     "data": {
      "text/plain": [
       "'Step 1: Identify the year of the Olympic games held in Sydney. The Summer Olympic Games were held in Sydney in the year 2000.\\n\\nStep 2: Determine the criteria for measuring an athlete\\'s \"decorations\" in the Olympics. The number of medals won by an athlete is the most common way of measuring their success and decorations in the Olympics.\\n\\nStep 3: Research the list of most decorated athletes in the 2000 Summer Olympics. According to Olympic.org, the most decorated athlete in the 2000 Summer Olympics was Michael Phelps, an American swimmer.\\n\\nStep 4: Review the number of medals won by Michael Phelps in the 2000 Summer Olympics. Michael Phelps won a total of 6 medals (3 gold, 2 silver, and 1 bronze) at the 2000 Summer Olympics in Sydney.\\n\\nStep 5: Compare the number of medals won by Michael Phelps to other athletes in the 2000 Summer Olympics. According to Olympic.org, no'"
      ]
     },
     "execution_count": 38,
     "metadata": {},
     "output_type": "execute_result"
    }
   ],
   "source": [
    "text = f\"\"\"\n",
    "    The 2020 Summer Olympics, officially the Games of the XXXII Olympiad and also known as Tokyo 2020, was an international multi-sport event held from 23 July to 8 August 2021 in Tokyo, Japan, with some preliminary events that began on 21 July 2021. Tokyo was selected as the host city during the 125th IOC Session in Buenos Aires, Argentina, on 7 September 2013.Originally scheduled to take place from 24 July to 9 August 2020, the event was postponed to 2021 on 24 March 2020 due to the global COVID-19 pandemic, the first such instance in the history of the Olympic Games (previous games had been cancelled but not rescheduled). However, the event retained the Tokyo 2020 branding for marketing purposes. It was largely held behind closed doors with no public spectators permitted due to the declaration of a state of emergency in the Greater Tokyo Area in response to the pandemic, the first and only Olympic Games to be held without official spectators. The Games were the most expensive ever, with total spending of over $20 billion.The Games were the fourth Olympic Games to be held in Japan, following the 1964 Summer Olympics (Tokyo), 1972 Winter Olympics (Sapporo), and 1998 Winter Olympics (Nagano). Tokyo became the first city in Asia to hold the Summer Olympic Games twice. The 2020 Games were the second of three consecutive Olympics to be held in East Asia, following the 2018 Winter Olympics in Pyeongchang, South Korea and preceding the 2022 Winter Olympics in Beijing, China. Due to the one-year postponement, Tokyo 2020 was the first and only Olympic Games to have been held in an odd-numbered year and the first Summer Olympics since 1900 to be held in a non-leap year.\\nNew events were introduced in existing sports, including 3x3 basketball, freestyle BMX and mixed gender team events in a number of existing sports, as well as the return of madison cycling for men and an introduction of the same event for women. New IOC policies also allowed the host organizing committee to add new sports to the Olympic program for just one Games. The disciplines added by the Japanese Olympic Committee were baseball and softball, karate, sport climbing, surfing and skateboarding, the last four of which made their Olympic debuts, and the last three of which will remain on the Olympic program.The United States topped the medal count by both total golds (39) and total medals (113), with China finishing second by both respects (38 and 89). Host nation Japan finished third, setting a record for the most gold medals and total medals ever won by their delegation at an Olympic Games with 27 and 58. Great Britain finished fourth, with a total of 22 gold and 64 medals. The Russian delegation competing as the ROC finished fifth with 20 gold medals and third in the overall medal count, with 71 medals. Bermuda, the Philippines and Qatar won their first-ever Olympic gold medals. Burkina Faso, San Marino and Turkmenistan also won their first-ever Olympic medals.'\n",
    "\"\"\"\n",
    "\n",
    "# From Azure documentation\n",
    "prompt = \"Who was the most decorated (maximum medals) individual athlete in the Olympic games that were held at Sydney? Take a step-by-step approach in your response, cite sources and give reasoning before sharing final answer in the below format: ANSWER is: <name>\"\n",
    "get_chat_completion(prompt)"
   ]
  },
  {
   "cell_type": "code",
   "execution_count": 39,
   "metadata": {
    "jupyter": {
     "outputs_hidden": false,
     "source_hidden": false
    },
    "nteract": {
     "transient": {
      "deleting": false
     }
    }
   },
   "outputs": [
    {
     "data": {
      "text/plain": [
       "\"To solve this problem, we need to identify the top two countries who won the most gold medals in the 2020 Tokyo Olympics, and then determine the time zone difference between them. According to the context, the United States topped the medal count by both total golds and total medals, with China finishing second by both respects. Therefore, we need to find the time zone difference between the United States and China. \\n\\nTo do this, we need to know the time zones of both countries. The United States has multiple time zones, but we can take the Eastern Time Zone as a reference since it is the most populous and the location of many of the country's major cities. China, on the other hand, has a single time zone called China Standard Time (CST), which is 12 hours ahead of Eastern Time. \\n\\nTherefore, the time zone difference between the United States and China is 12 hours. This means that when it is noon in the Eastern Time Zone of the United States\""
      ]
     },
     "execution_count": 39,
     "metadata": {},
     "output_type": "execute_result"
    }
   ],
   "source": [
    "# Another example\n",
    "prompt = f\"\"\"\n",
    "What is the largest time zone difference is between the top two countries who \n",
    "won the most gold medals in the 2020 Tokyo olympics?\n",
    "\n",
    "Use the context below and think aloud as you solve the problem, step-by-step.\n",
    "\n",
    "Context: {text}\n",
    "\"\"\"\n",
    "get_chat_completion(prompt)"
   ]
  },
  {
   "cell_type": "markdown",
   "metadata": {
    "nteract": {
     "transient": {
      "deleting": false
     }
    }
   },
   "source": [
    "#### Táctica 2: Ejemplo de un solo disparo (One-shot)\n",
    "Otra táctica común es proporcionar un ejemplo de una consulta y una respuesta ideal. El modelo aprenderá de ese ejemplo y aplicará los patrones a una nueva pregunta."
   ]
  },
  {
   "cell_type": "code",
   "execution_count": 40,
   "metadata": {
    "gather": {
     "logged": 1685053144682
    },
    "jupyter": {
     "outputs_hidden": false,
     "source_hidden": false
    },
    "nteract": {
     "transient": {
      "deleting": false
     }
    }
   },
   "outputs": [
    {
     "data": {
      "text/plain": [
       "\"The United States has 74 medals that are not gold medals (113 total medals - 39 gold medals).\\nGreat Britain has 42 medals that are not gold medals (64 total medals - 22 gold medals).\\nTherefore, the United States has 74 - 42 = 32 more non-gold medals than Great Britain.\\nSince silver and bronze medals are both non-gold medals, we can't determine exactly how many of each the United States has more than Great Britain. However, we do know the difference between their total non-gold medals.\""
      ]
     },
     "execution_count": 40,
     "metadata": {},
     "output_type": "execute_result"
    }
   ],
   "source": [
    "# Notice how this response may not be ideal, or the most accurate.\n",
    "prompt = f\"\"\"\n",
    "    The United States has 113 total medals, 39 of which are gold medals. \n",
    "    \n",
    "    Great Britain has 64 medals and 22 gold medals. \n",
    "    \n",
    "    How many more silver and bronze medals does the United States have over Great Britain?\n",
    "\"\"\"\n",
    "\n",
    "get_chat_completion(prompt)"
   ]
  },
  {
   "cell_type": "code",
   "execution_count": 41,
   "metadata": {
    "jupyter": {
     "outputs_hidden": false,
     "source_hidden": false
    },
    "nteract": {
     "transient": {
      "deleting": false
     }
    }
   },
   "outputs": [
    {
     "data": {
      "text/plain": [
       "'[Step 1] - There are three types of medals: gold, silver, and bronze\\n[Step 2] - We know the gold and total counts of medals, so the number of silver and bronze medals is the difference between the gold (38) and total (89) counts. \\n            89-38=51, so there are 51 silver and bronze medals combined. The answer is 51.'"
      ]
     },
     "execution_count": 41,
     "metadata": {},
     "output_type": "execute_result"
    }
   ],
   "source": [
    "# Give the model a one-shot example to solve the question more thoroughly\n",
    "\n",
    "prompt = f\"\"\"\n",
    "Question: The United States has 113 total medals, 39 of which are gold medals. How many medals are silver or bronze?\n",
    "Answer:\n",
    "[Step 1] - There are three types of medals: gold, silver, and bronze\n",
    "[Step 2] - We know the gold and total counts of medals, so the number of silver and bronze medals is the difference between the gold (39) and total (113) counts. \n",
    "            113-39=74, so there are 74 silver and bronze medals combined. The answer is 74.\n",
    "\n",
    "===\n",
    "\n",
    "Answer the following question using similar steps above.\n",
    "\n",
    "Question: China has 89 total medals, 38 of which are gold medals. How many silver and bronze medals do they have?\n",
    "Answer:\n",
    "\"\"\"\n",
    "\n",
    "get_chat_completion(prompt)"
   ]
  },
  {
   "cell_type": "markdown",
   "metadata": {
    "nteract": {
     "transient": {
      "deleting": false
     }
    }
   },
   "source": [
    "#### Táctica 3: Razonamiento de cadena de pensamiento del chatbot (chain-of-thought reasoning)\n",
    "Puedes incorporar lógica utilizando variables para que el chatbot pueda demostrar de manera dinámica formas específicas de pensar sobre un problema.\n",
    "\n",
    "**Para ingresar la información, aparecerá un cuadro de texto en la parte superior de la pantalla. Deberías ver una ventana emergente. Escribe 'quit' si quieres salir.**"
   ]
  },
  {
   "cell_type": "code",
   "execution_count": 42,
   "metadata": {
    "jupyter": {
     "outputs_hidden": false,
     "source_hidden": false
    },
    "nteract": {
     "transient": {
      "deleting": false
     }
    }
   },
   "outputs": [
    {
     "name": "stdout",
     "output_type": "stream",
     "text": [
      "1\n",
      "\n",
      "Hello! I am a decision bot. What is the problem, scenario, or question you need help with?\n",
      "\n"
     ]
    }
   ],
   "source": [
    "# Ask the bot to help you make a decision such as deciding whether to take a job or choose between restaurants.\n",
    "# If the model does not immediately respond to your query, wait 1-5 seconds and retype it.\n",
    "# If it is not allowing you to give an input, restart the kernel in the navigation bar.\n",
    "# Type \"quit\" to end the session\n",
    "\n",
    "context = '''\n",
    "        You are a decision bot. Your job is to help come to decision by asking a series of questions one at a time and coming to a reasonable decision based on the information provided.\n",
    "\n",
    "        You will use the following format to help create the series of questions.\n",
    "\n",
    "        Template: \n",
    "        [Problem/Scenario/Question]: [Provide a brief description of the problem, scenario, or question.]\n",
    "\n",
    "        Chain of thought:\n",
    "\n",
    "        [Step 1]: Identify the [key element/variable] in the [problem/scenario/question].\n",
    "        [Step 2]: Understand the [relationship/connection] between [element A] and [element B].\n",
    "        [Step 3]: [Analyze/Evaluate/Consider] the [context/implication] of the [relationship/connection] between [element A] and [element B].\n",
    "        [Step 4]: [Conclude/Decide/Determine] the [outcome/solution] based on the [analysis/evaluation/consideration] of [element A], [element B], and their [relationship/connection].\n",
    "        [Answer/Conclusion/Recommendation]: [Provide a coherent and logical response based on the chain of thought.]\n",
    "\n",
    "        You will guide the user though a series of questions one at a time. The first question is broad, and they subsequent questions become more specific. \n",
    "\n",
    "        Begin by introducing yourself and asking the first question (step 1) only and nothing else, in simple and easy way.\n",
    "        '''\n",
    "\n",
    "conversation=[{\"role\": \"system\", \"content\": context}]\n",
    "\n",
    "while(True):\n",
    "    print(len(conversation))\n",
    "    if len(conversation) == 1:\n",
    "        response = get_completion_from_messages(conversation)\n",
    "        conversation.append({\"role\": \"assistant\", \"content\": response})\n",
    "        print(\"\\n\" + response + \"\\n\")\n",
    "    \n",
    "    user_input = input('Enter your response: ')\n",
    "    if user_input.lower() == \"quit\":\n",
    "        break \n",
    "    conversation.append({\"role\": \"user\", \"content\": user_input})\n",
    "    \n",
    "    response = get_completion_from_messages(conversation)\n",
    "    conversation.append({\"role\": \"assistant\", \"content\": response})\n",
    "    print(\"\\n\" + response + \"\\n\")\n"
   ]
  },
  {
   "cell_type": "markdown",
   "metadata": {
    "nteract": {
     "transient": {
      "deleting": false
     }
    }
   },
   "source": [
    "#### 2.2.2 - Encadenamiento / Chaining\n",
    "Similar a algunos ejemplos anteriores, puedes usar las salidas del modelo de consultas anteriores en otras consultas. Más adelante en el Hack te mostraremos cómo hacer esto a escala."
   ]
  },
  {
   "cell_type": "code",
   "execution_count": 43,
   "metadata": {
    "gather": {
     "logged": 1685051679330
    },
    "jupyter": {
     "outputs_hidden": false,
     "source_hidden": false
    },
    "nteract": {
     "transient": {
      "deleting": false
     }
    }
   },
   "outputs": [
    {
     "name": "stdout",
     "output_type": "stream",
     "text": [
      "The Tokyo 2020 Olympics culminated on August 8, 2021, with the United States emerging as the clear winner of the medal count. The US athletes won a total of 113 medals, including 39 golds, 41 silvers, and 33 bronzes. China came in second place with a total of 89 medals, including 38 golds, 32 silvers, and 18 bronzes. These two countries were the clear winners, with the United States winning nearly 25% more medals than China.\n",
      "\n",
      "The third place went to Japan with a total of 58 medals, including 27 golds, 14 silvers, and 17 bronzes. The host country had a strong showing in many sports, including judo, swimming, and gymnastics.\n",
      "\n",
      "Great Britain came in fourth place with a total of 64 medals, including 22 golds, 21 silvers, and 21 bronzes. Team GB\n",
      "United States Dominates Tokyo Olympics\n"
     ]
    }
   ],
   "source": [
    "# Extract medal counts for each country from the news article\n",
    "# Write an article about the summarized information\n",
    "# Provide a title for the summary\n",
    "\n",
    "text = f\"\"\"\n",
    "    The 2020 Summer Olympics, officially the Games of the XXXII Olympiad and also known as Tokyo 2020, was an international multi-sport event held from 23 July to 8 August 2021 in Tokyo, Japan, with some preliminary events that began on 21 July 2021. Tokyo was selected as the host city during the 125th IOC Session in Buenos Aires, Argentina, on 7 September 2013.Originally scheduled to take place from 24 July to 9 August 2020, the event was postponed to 2021 on 24 March 2020 due to the global COVID-19 pandemic, the first such instance in the history of the Olympic Games (previous games had been cancelled but not rescheduled). However, the event retained the Tokyo 2020 branding for marketing purposes. It was largely held behind closed doors with no public spectators permitted due to the declaration of a state of emergency in the Greater Tokyo Area in response to the pandemic, the first and only Olympic Games to be held without official spectators. The Games were the most expensive ever, with total spending of over $20 billion.The Games were the fourth Olympic Games to be held in Japan, following the 1964 Summer Olympics (Tokyo), 1972 Winter Olympics (Sapporo), and 1998 Winter Olympics (Nagano). Tokyo became the first city in Asia to hold the Summer Olympic Games twice. The 2020 Games were the second of three consecutive Olympics to be held in East Asia, following the 2018 Winter Olympics in Pyeongchang, South Korea and preceding the 2022 Winter Olympics in Beijing, China. Due to the one-year postponement, Tokyo 2020 was the first and only Olympic Games to have been held in an odd-numbered year and the first Summer Olympics since 1900 to be held in a non-leap year.\\nNew events were introduced in existing sports, including 3x3 basketball, freestyle BMX and mixed gender team events in a number of existing sports, as well as the return of madison cycling for men and an introduction of the same event for women. New IOC policies also allowed the host organizing committee to add new sports to the Olympic program for just one Games. The disciplines added by the Japanese Olympic Committee were baseball and softball, karate, sport climbing, surfing and skateboarding, the last four of which made their Olympic debuts, and the last three of which will remain on the Olympic program.The United States topped the medal count by both total golds (39) and total medals (113), with China finishing second by both respects (38 and 89). Host nation Japan finished third, setting a record for the most gold medals and total medals ever won by their delegation at an Olympic Games with 27 and 58. Great Britain finished fourth, with a total of 22 gold and 64 medals. The Russian delegation competing as the ROC finished fifth with 20 gold medals and third in the overall medal count, with 71 medals. Bermuda, the Philippines and Qatar won their first-ever Olympic gold medals. Burkina Faso, San Marino and Turkmenistan also won their first-ever Olympic medals.'\n",
    "\"\"\"\n",
    "\n",
    "prompt = f\"\"\"\n",
    "    Based on the context below, write a JSON object that contains the number of gold and total medals for each country.\n",
    "    Context: {text}\n",
    "\"\"\"\n",
    "num_medals_dict = get_chat_completion(prompt)\n",
    "\n",
    "prompt = f\"\"\"\n",
    "    Write a brief article about the winners and losers of the Olympics based on medal count:\n",
    "    {num_medals_dict}\n",
    "\"\"\"\n",
    "summary = get_chat_completion(prompt)\n",
    "print(summary)\n",
    "\n",
    "prompt = f\"\"\"\n",
    "    Give the summary a title in 5 words:\n",
    "    {summary}\n",
    "\"\"\"\n",
    "title = get_chat_completion(prompt)\n",
    "print(title)"
   ]
  },
  {
   "cell_type": "markdown",
   "metadata": {
    "nteract": {
     "transient": {
      "deleting": false
     }
    }
   },
   "source": [
    "#### Tarea para Estudiantes (Encadenamiento / Chaining):\n",
    "\n",
    "Tu tarea ahora es escribir código que determine el país que ganó la mayor cantidad de medallas de plata y bronce combinadas.\n",
    "\n",
    "Podemos ver que el modelo tiene un rendimiento deficiente al responder la pregunta directamente."
   ]
  },
  {
   "cell_type": "code",
   "execution_count": 44,
   "metadata": {
    "gather": {
     "logged": 1685053948700
    },
    "jupyter": {
     "outputs_hidden": false,
     "source_hidden": false
    },
    "nteract": {
     "transient": {
      "deleting": false
     }
    }
   },
   "outputs": [
    {
     "data": {
      "text/plain": [
       "'The context does not provide clear information about which country had the most silver and bronze medals.'"
      ]
     },
     "execution_count": 44,
     "metadata": {},
     "output_type": "execute_result"
    }
   ],
   "source": [
    "prompt = f\"\"\"\n",
    "    Based on the context, which country had the most silver and bronze medals?\n",
    "    Context: {text}\n",
    "\"\"\"\n",
    "\n",
    "get_chat_completion(prompt)"
   ]
  },
  {
   "cell_type": "code",
   "execution_count": 50,
   "metadata": {},
   "outputs": [
    {
     "name": "stdout",
     "output_type": "stream",
     "text": [
      "{\n",
      "  \"United States\": {\n",
      "    \"gold\": 39,\n",
      "    \"total\": 113\n",
      "  },\n",
      "  \"China\": {\n",
      "    \"gold\": 38,\n",
      "    \"total\": 89\n",
      "  },\n",
      "  \"Japan\": {\n",
      "    \"gold\": 27,\n",
      "    \"total\": 58\n",
      "  },\n",
      "  \"Great Britain\": {\n",
      "    \"gold\": 22,\n",
      "    \"total\": 64\n",
      "  },\n",
      "  \"ROC\": {\n",
      "    \"gold\": 20,\n",
      "    \"total\": 71\n",
      "  },\n",
      "  \"Bermuda\": {\n",
      "    \"gold\": 1,\n",
      "    \"total\": 1\n",
      "  },\n",
      "  \"Philippines\": {\n",
      "    \"gold\": 1,\n",
      "    \"total\": 1\n",
      "  },\n",
      "  \"Qatar\": {\n",
      "    \"gold\": 1,\n",
      "    \"total\": 2\n",
      "  },\n",
      "  \"Burkina Faso\": {\n",
      "    \"gold\": 0,\n",
      "    \"total\": 1\n",
      "  },\n",
      "\n"
     ]
    }
   ],
   "source": [
    "print(num_medals_dict)"
   ]
  },
  {
   "cell_type": "markdown",
   "metadata": {
    "nteract": {
     "transient": {
      "deleting": false
     }
    }
   },
   "source": [
    "Escribe prompts en la celda a continuación que ayudarán al modelo a responder la pregunta desglosando las tareas en diferentes pasos. Asegúrate de que responda solo con la información que se le proporcionó. Este concepto de fundamentación se presentará con más detalle en el Reto 3.\n",
    "\n",
    "Deberías poder lograr que el modelo responda la pregunta en 2-3 pasos."
   ]
  },
  {
   "cell_type": "code",
   "execution_count": null,
   "metadata": {
    "jupyter": {
     "outputs_hidden": false,
     "source_hidden": false
    },
    "nteract": {
     "transient": {
      "deleting": false
     }
    }
   },
   "outputs": [
    {
     "name": "stdout",
     "output_type": "stream",
     "text": [
      "{\n",
      "    \"United States\": {\n",
      "        \"gold\": 39,\n",
      "        \"total medals\": 113\n",
      "    },\n",
      "    \"China\": {\n",
      "        \"gold\": 38,\n",
      "        \"total medals\": 89\n",
      "    },\n",
      "    \"Japan\": {\n",
      "        \"gold\": 27,\n",
      "        \"total medals\": 58\n",
      "    },\n",
      "    \"Great Britain\": {\n",
      "        \"gold\": 22,\n",
      "        \"total medals\": 64\n",
      "    },\n",
      "    \"ROC\": {\n",
      "        \"gold\": 20,\n",
      "        \"total medals\": 71\n",
      "    },\n",
      "    \"Bermuda\": {\n",
      "        \"gold\": 1,\n",
      "        \"total medals\": 1\n",
      "    },\n",
      "    \"Philippines\": {\n",
      "        \"gold\": 1,\n",
      "        \"total medals\": 1\n",
      "    },\n",
      "    \"Qatar\": {\n",
      "        \"gold\": 1,\n",
      "        \"total medals\": 2\n",
      "    },\n",
      "    \"Burkina Faso\": {\n",
      "        \"gold\": 0,\n",
      "       \n",
      "Según los datos oficiales, el país que ganó más medallas de plata y bronce combinadas en los Juegos Olímpicos de Tokio 2020 fue Estados Unidos, con un total de 74 medallas de plata y bronce combinadas. China quedó en segundo lugar con un total de 51 medallas de plata y bronce combinadas.\n"
     ]
    }
   ],
   "source": [
    "# Escribe aquí el código para la tarea .\n",
    "\n",
    "text = f\"\"\"\n",
    "    The 2020 Summer Olympics, officially the Games of the XXXII Olympiad and also known as Tokyo 2020, was an international multi-sport event held from 23 July to 8 August 2021 in Tokyo, Japan, with some preliminary events that began on 21 July 2021. Tokyo was selected as the host city during the 125th IOC Session in Buenos Aires, Argentina, on 7 September 2013.Originally scheduled to take place from 24 July to 9 August 2020, the event was postponed to 2021 on 24 March 2020 due to the global COVID-19 pandemic, the first such instance in the history of the Olympic Games (previous games had been cancelled but not rescheduled). However, the event retained the Tokyo 2020 branding for marketing purposes. It was largely held behind closed doors with no public spectators permitted due to the declaration of a state of emergency in the Greater Tokyo Area in response to the pandemic, the first and only Olympic Games to be held without official spectators. The Games were the most expensive ever, with total spending of over $20 billion.The Games were the fourth Olympic Games to be held in Japan, following the 1964 Summer Olympics (Tokyo), 1972 Winter Olympics (Sapporo), and 1998 Winter Olympics (Nagano). Tokyo became the first city in Asia to hold the Summer Olympic Games twice. The 2020 Games were the second of three consecutive Olympics to be held in East Asia, following the 2018 Winter Olympics in Pyeongchang, South Korea and preceding the 2022 Winter Olympics in Beijing, China. Due to the one-year postponement, Tokyo 2020 was the first and only Olympic Games to have been held in an odd-numbered year and the first Summer Olympics since 1900 to be held in a non-leap year.\\nNew events were introduced in existing sports, including 3x3 basketball, freestyle BMX and mixed gender team events in a number of existing sports, as well as the return of madison cycling for men and an introduction of the same event for women. New IOC policies also allowed the host organizing committee to add new sports to the Olympic program for just one Games. The disciplines added by the Japanese Olympic Committee were baseball and softball, karate, sport climbing, surfing and skateboarding, the last four of which made their Olympic debuts, and the last three of which will remain on the Olympic program.The United States topped the medal count by both total golds (39) and total medals (113), with China finishing second by both respects (38 and 89). Host nation Japan finished third, setting a record for the most gold medals and total medals ever won by their delegation at an Olympic Games with 27 and 58. Great Britain finished fourth, with a total of 22 gold and 64 medals. The Russian delegation competing as the ROC finished fifth with 20 gold medals and third in the overall medal count, with 71 medals. Bermuda, the Philippines and Qatar won their first-ever Olympic gold medals. Burkina Faso, San Marino and Turkmenistan also won their first-ever Olympic medals.'\n",
    "\"\"\"\n",
    "\n",
    "prompt = f\"\"\"\n",
    "    Based on the context below, write a JSON object that contains the number of gold and total medals for each country.\n",
    "    Context: {text}\n",
    "\"\"\"\n",
    "\n",
    "num_medals_dict = get_chat_completion(prompt)\n",
    "\n",
    "#print(num_medals_dict)\n",
    "\n",
    "context = f\"\"\"\n",
    "    You are a chat bot wich only job is to answer, based on the context below, wich Nation won more Silver and Bronze medal combined.\n",
    "    Use this data to ground your answer: {num_medals_dict}.\n",
    "\n",
    "    Answer:\n",
    "    \n",
    "    [Step 1] - There are three types of medals: gold, silver, and bronze\n",
    "    [Step 2] - We know the gold and total counts of medals, so the number of silver and bronze medals is the difference between the gold (39) and total (113) counts. \n",
    "            113-39=74, so there are 74 silver and bronze medals combined. The answer is 74.\n",
    "\n",
    "===\n",
    "\n",
    "Answer the user question using similar steps above.\n",
    "\n",
    "\"\"\"\n",
    "\n",
    "user_question = {'role': 'user', 'content': 'Quien gano mas medaalas de bronce y plata combinadas en los juegos olimpicos de tokio 2020?'}\n",
    "\n",
    "\n",
    "conversation=[{\"role\": \"system\", \"content\": context}, user_question]\n",
    "\n",
    "response = get_completion_from_messages(conversation, chat_model, 0.5)\n",
    "\n",
    "print(response)\n"
   ]
  },
  {
   "cell_type": "markdown",
   "metadata": {},
   "source": [
    "## Conclusión\n",
    "\n",
    "En este primer desafío, cubrimos cómo interactuar con Azure OpenAI para diferentes objetivos. Esperamos que hayas podido ver la versatilidad dinámica de los modelos y cómo pueden usarse para resolver una variedad de problemas utilizando diferentes técnicas.\n",
    "\n",
    "Le dimos a la API piezas cortas de texto usando variables fijas. En el próximo conjunto de desafíos, verás cómo usar la API con conjuntos de datos más grandes."
   ]
  }
 ],
 "metadata": {
  "kernel_info": {
   "name": "python38-azureml"
  },
  "kernelspec": {
   "display_name": "Python 3",
   "language": "python",
   "name": "python3"
  },
  "language_info": {
   "codemirror_mode": {
    "name": "ipython",
    "version": 3
   },
   "file_extension": ".py",
   "mimetype": "text/x-python",
   "name": "python",
   "nbconvert_exporter": "python",
   "pygments_lexer": "ipython3",
   "version": "3.12.1"
  },
  "microsoft": {
   "host": {
    "AzureML": {
     "notebookHasBeenCompleted": true
    }
   },
   "ms_spell_check": {
    "ms_spell_check_language": "en"
   }
  },
  "nteract": {
   "version": "nteract-front-end@1.0.0"
  }
 },
 "nbformat": 4,
 "nbformat_minor": 2
}
